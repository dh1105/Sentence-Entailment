{
  "nbformat": 4,
  "nbformat_minor": 0,
  "metadata": {
    "colab": {
      "name": "Sentence entailment lstm.ipynb",
      "provenance": [],
      "collapsed_sections": [],
      "mount_file_id": "1XlOV4ZXQUOjOIVzAZIeiqUgTAKE4UReE",
      "authorship_tag": "ABX9TyPAVmIu1nC1SD6kMbrNnytB",
      "include_colab_link": true
    },
    "kernelspec": {
      "name": "python3",
      "display_name": "Python 3"
    },
    "accelerator": "GPU"
  },
  "cells": [
    {
      "cell_type": "markdown",
      "metadata": {
        "id": "view-in-github",
        "colab_type": "text"
      },
      "source": [
        "<a href=\"https://colab.research.google.com/github/dh1105/Sentence-Entailment/blob/main/Sentence_entailment_lstm.ipynb\" target=\"_parent\"><img src=\"https://colab.research.google.com/assets/colab-badge.svg\" alt=\"Open In Colab\"/></a>"
      ]
    },
    {
      "cell_type": "code",
      "metadata": {
        "id": "QT4woXyLw2mr",
        "colab": {
          "base_uri": "https://localhost:8080/"
        },
        "outputId": "f4a57daa-2e25-4c90-cd94-7753c0ad40da"
      },
      "source": [
        "!wget -c \"https://s3.amazonaws.com/dl4j-distribution/GoogleNews-vectors-negative300.bin.gz\""
      ],
      "execution_count": null,
      "outputs": [
        {
          "output_type": "stream",
          "text": [
            "--2020-12-05 16:00:00--  https://s3.amazonaws.com/dl4j-distribution/GoogleNews-vectors-negative300.bin.gz\n",
            "Resolving s3.amazonaws.com (s3.amazonaws.com)... 52.217.64.190\n",
            "Connecting to s3.amazonaws.com (s3.amazonaws.com)|52.217.64.190|:443... connected.\n",
            "HTTP request sent, awaiting response... 200 OK\n",
            "Length: 1647046227 (1.5G) [application/x-gzip]\n",
            "Saving to: ‘GoogleNews-vectors-negative300.bin.gz’\n",
            "\n",
            "eNews-vectors-negat  88%[================>   ]   1.36G  95.4MB/s    eta 2s     ^C\n"
          ],
          "name": "stdout"
        }
      ]
    },
    {
      "cell_type": "code",
      "metadata": {
        "id": "kXUeGLq0w53F",
        "colab": {
          "base_uri": "https://localhost:8080/"
        },
        "outputId": "ac390000-b9bc-4f57-b753-a59ca2e8ef47"
      },
      "source": [
        "!gunzip /content/GoogleNews-vectors-negative300.bin.gz"
      ],
      "execution_count": null,
      "outputs": [
        {
          "output_type": "stream",
          "text": [
            "^C\n"
          ],
          "name": "stdout"
        }
      ]
    },
    {
      "cell_type": "code",
      "metadata": {
        "id": "v6kCxd_Ek0gQ"
      },
      "source": [
        "TRAIN_PATH = '/content/multinli_1.0/multinli_1.0_train.jsonl'\n",
        "VAL_PATH   = '/content/multinli_1.0/multinli_1.0_dev_matched.jsonl'"
      ],
      "execution_count": null,
      "outputs": []
    },
    {
      "cell_type": "code",
      "metadata": {
        "id": "0PO6uvrFeb7Y"
      },
      "source": [
        "def read_jsonl_file(path):\n",
        "  with open(path, 'r') as json_file:\n",
        "    json_list = list(json_file)\n",
        "\n",
        "  results = []\n",
        "  for json_str in json_list:\n",
        "      results.append(json.loads(json_str))\n",
        "  return results"
      ],
      "execution_count": null,
      "outputs": []
    },
    {
      "cell_type": "code",
      "metadata": {
        "id": "msOphSv2cWnf"
      },
      "source": [
        "mutlinli_train_df = pd.DataFrame(read_jsonl_file(TRAIN_PATH))\n",
        "mutlinli_val_df  = pd.DataFrame(read_jsonl_file(VAL_PATH))"
      ],
      "execution_count": null,
      "outputs": []
    },
    {
      "cell_type": "code",
      "metadata": {
        "id": "CQ-l8QVyjYaR"
      },
      "source": [
        "train_df = mutlinli_train_df[['gold_label', 'sentence1', 'sentence2']]\n",
        "val_df  = mutlinli_val_df[['gold_label', 'sentence1', 'sentence2']]"
      ],
      "execution_count": null,
      "outputs": []
    },
    {
      "cell_type": "code",
      "metadata": {
        "id": "PySXxe23iKXl",
        "colab": {
          "base_uri": "https://localhost:8080/",
          "height": 402
        },
        "outputId": "0f08155f-6445-47c5-c325-d69a3422ad51"
      },
      "source": [
        "train_df"
      ],
      "execution_count": null,
      "outputs": [
        {
          "output_type": "execute_result",
          "data": {
            "text/html": [
              "<div>\n",
              "<style scoped>\n",
              "    .dataframe tbody tr th:only-of-type {\n",
              "        vertical-align: middle;\n",
              "    }\n",
              "\n",
              "    .dataframe tbody tr th {\n",
              "        vertical-align: top;\n",
              "    }\n",
              "\n",
              "    .dataframe thead th {\n",
              "        text-align: right;\n",
              "    }\n",
              "</style>\n",
              "<table border=\"1\" class=\"dataframe\">\n",
              "  <thead>\n",
              "    <tr style=\"text-align: right;\">\n",
              "      <th></th>\n",
              "      <th>gold_label</th>\n",
              "      <th>sentence1</th>\n",
              "      <th>sentence2</th>\n",
              "    </tr>\n",
              "  </thead>\n",
              "  <tbody>\n",
              "    <tr>\n",
              "      <th>0</th>\n",
              "      <td>neutral</td>\n",
              "      <td>Conceptually cream skimming has two basic dime...</td>\n",
              "      <td>Product and geography are what make cream skim...</td>\n",
              "    </tr>\n",
              "    <tr>\n",
              "      <th>1</th>\n",
              "      <td>entailment</td>\n",
              "      <td>you know during the season and i guess at at y...</td>\n",
              "      <td>You lose the things to the following level if ...</td>\n",
              "    </tr>\n",
              "    <tr>\n",
              "      <th>2</th>\n",
              "      <td>entailment</td>\n",
              "      <td>One of our number will carry out your instruct...</td>\n",
              "      <td>A member of my team will execute your orders w...</td>\n",
              "    </tr>\n",
              "    <tr>\n",
              "      <th>3</th>\n",
              "      <td>entailment</td>\n",
              "      <td>How do you know? All this is their information...</td>\n",
              "      <td>This information belongs to them.</td>\n",
              "    </tr>\n",
              "    <tr>\n",
              "      <th>4</th>\n",
              "      <td>neutral</td>\n",
              "      <td>yeah i tell you what though if you go price so...</td>\n",
              "      <td>The tennis shoes have a range of prices.</td>\n",
              "    </tr>\n",
              "    <tr>\n",
              "      <th>...</th>\n",
              "      <td>...</td>\n",
              "      <td>...</td>\n",
              "      <td>...</td>\n",
              "    </tr>\n",
              "    <tr>\n",
              "      <th>392697</th>\n",
              "      <td>contradiction</td>\n",
              "      <td>Clearly, California can - and must - do better.</td>\n",
              "      <td>California cannot do any better.</td>\n",
              "    </tr>\n",
              "    <tr>\n",
              "      <th>392698</th>\n",
              "      <td>neutral</td>\n",
              "      <td>It was once regarded as the most beautiful str...</td>\n",
              "      <td>So many of the original buildings had been rep...</td>\n",
              "    </tr>\n",
              "    <tr>\n",
              "      <th>392699</th>\n",
              "      <td>entailment</td>\n",
              "      <td>Houseboats are a beautifully preserved traditi...</td>\n",
              "      <td>The tradition of houseboats originated while t...</td>\n",
              "    </tr>\n",
              "    <tr>\n",
              "      <th>392700</th>\n",
              "      <td>neutral</td>\n",
              "      <td>Obituaries fondly recalled his on-air debates ...</td>\n",
              "      <td>The obituaries were beautiful and written in k...</td>\n",
              "    </tr>\n",
              "    <tr>\n",
              "      <th>392701</th>\n",
              "      <td>neutral</td>\n",
              "      <td>in that other you know uh that i should do it ...</td>\n",
              "      <td>My husband has been so overworked lately that ...</td>\n",
              "    </tr>\n",
              "  </tbody>\n",
              "</table>\n",
              "<p>392702 rows × 3 columns</p>\n",
              "</div>"
            ],
            "text/plain": [
              "           gold_label  ...                                          sentence2\n",
              "0             neutral  ...  Product and geography are what make cream skim...\n",
              "1          entailment  ...  You lose the things to the following level if ...\n",
              "2          entailment  ...  A member of my team will execute your orders w...\n",
              "3          entailment  ...                  This information belongs to them.\n",
              "4             neutral  ...           The tennis shoes have a range of prices.\n",
              "...               ...  ...                                                ...\n",
              "392697  contradiction  ...                   California cannot do any better.\n",
              "392698        neutral  ...  So many of the original buildings had been rep...\n",
              "392699     entailment  ...  The tradition of houseboats originated while t...\n",
              "392700        neutral  ...  The obituaries were beautiful and written in k...\n",
              "392701        neutral  ...  My husband has been so overworked lately that ...\n",
              "\n",
              "[392702 rows x 3 columns]"
            ]
          },
          "metadata": {
            "tags": []
          },
          "execution_count": 67
        }
      ]
    },
    {
      "cell_type": "code",
      "metadata": {
        "id": "bYHozVIdiLb0",
        "colab": {
          "base_uri": "https://localhost:8080/",
          "height": 402
        },
        "outputId": "7cb40e6e-75fd-4dde-eb00-c2efeb2a50ef"
      },
      "source": [
        "val_df"
      ],
      "execution_count": null,
      "outputs": [
        {
          "output_type": "execute_result",
          "data": {
            "text/html": [
              "<div>\n",
              "<style scoped>\n",
              "    .dataframe tbody tr th:only-of-type {\n",
              "        vertical-align: middle;\n",
              "    }\n",
              "\n",
              "    .dataframe tbody tr th {\n",
              "        vertical-align: top;\n",
              "    }\n",
              "\n",
              "    .dataframe thead th {\n",
              "        text-align: right;\n",
              "    }\n",
              "</style>\n",
              "<table border=\"1\" class=\"dataframe\">\n",
              "  <thead>\n",
              "    <tr style=\"text-align: right;\">\n",
              "      <th></th>\n",
              "      <th>gold_label</th>\n",
              "      <th>sentence1</th>\n",
              "      <th>sentence2</th>\n",
              "    </tr>\n",
              "  </thead>\n",
              "  <tbody>\n",
              "    <tr>\n",
              "      <th>0</th>\n",
              "      <td>neutral</td>\n",
              "      <td>The new rights are nice enough</td>\n",
              "      <td>Everyone really likes the newest benefits</td>\n",
              "    </tr>\n",
              "    <tr>\n",
              "      <th>1</th>\n",
              "      <td>contradiction</td>\n",
              "      <td>This site includes a list of all award winners...</td>\n",
              "      <td>The Government Executive articles housed on th...</td>\n",
              "    </tr>\n",
              "    <tr>\n",
              "      <th>2</th>\n",
              "      <td>entailment</td>\n",
              "      <td>uh i don't know i i have mixed emotions about ...</td>\n",
              "      <td>I like him for the most part, but would still ...</td>\n",
              "    </tr>\n",
              "    <tr>\n",
              "      <th>3</th>\n",
              "      <td>contradiction</td>\n",
              "      <td>yeah i i think my favorite restaurant is alway...</td>\n",
              "      <td>My favorite restaurants are always at least a ...</td>\n",
              "    </tr>\n",
              "    <tr>\n",
              "      <th>4</th>\n",
              "      <td>contradiction</td>\n",
              "      <td>i don't know um do you do a lot of camping</td>\n",
              "      <td>I know exactly.</td>\n",
              "    </tr>\n",
              "    <tr>\n",
              "      <th>...</th>\n",
              "      <td>...</td>\n",
              "      <td>...</td>\n",
              "      <td>...</td>\n",
              "    </tr>\n",
              "    <tr>\n",
              "      <th>9995</th>\n",
              "      <td>neutral</td>\n",
              "      <td>Since 1998, LSC has initiated and overseen sig...</td>\n",
              "      <td>LSC has been focusing on improving it's state ...</td>\n",
              "    </tr>\n",
              "    <tr>\n",
              "      <th>9996</th>\n",
              "      <td>contradiction</td>\n",
              "      <td>Eighty percent of pagers in the United States ...</td>\n",
              "      <td>Pagers in the United States were unaffected by...</td>\n",
              "    </tr>\n",
              "    <tr>\n",
              "      <th>9997</th>\n",
              "      <td>entailment</td>\n",
              "      <td>Finally, the FDA will conduct workshops, issue...</td>\n",
              "      <td>The FDA is set to conduct workshops.</td>\n",
              "    </tr>\n",
              "    <tr>\n",
              "      <th>9998</th>\n",
              "      <td>entailment</td>\n",
              "      <td>Cirque du Soleil's The latest from the acclaim...</td>\n",
              "      <td>Cirque du Soleil is an international troupe.</td>\n",
              "    </tr>\n",
              "    <tr>\n",
              "      <th>9999</th>\n",
              "      <td>contradiction</td>\n",
              "      <td>i'll listen  and agree with what i think sound...</td>\n",
              "      <td>I wont even bother listening.</td>\n",
              "    </tr>\n",
              "  </tbody>\n",
              "</table>\n",
              "<p>10000 rows × 3 columns</p>\n",
              "</div>"
            ],
            "text/plain": [
              "         gold_label  ...                                          sentence2\n",
              "0           neutral  ...         Everyone really likes the newest benefits \n",
              "1     contradiction  ...  The Government Executive articles housed on th...\n",
              "2        entailment  ...  I like him for the most part, but would still ...\n",
              "3     contradiction  ...  My favorite restaurants are always at least a ...\n",
              "4     contradiction  ...                                    I know exactly.\n",
              "...             ...  ...                                                ...\n",
              "9995        neutral  ...  LSC has been focusing on improving it's state ...\n",
              "9996  contradiction  ...  Pagers in the United States were unaffected by...\n",
              "9997     entailment  ...              The FDA is set to conduct workshops. \n",
              "9998     entailment  ...       Cirque du Soleil is an international troupe.\n",
              "9999  contradiction  ...                      I wont even bother listening.\n",
              "\n",
              "[10000 rows x 3 columns]"
            ]
          },
          "metadata": {
            "tags": []
          },
          "execution_count": 40
        }
      ]
    },
    {
      "cell_type": "code",
      "metadata": {
        "id": "C1xkp_82yzO-",
        "colab": {
          "base_uri": "https://localhost:8080/",
          "height": 34
        },
        "outputId": "ca3654b9-2779-48f8-b15f-d4cc354c50ee"
      },
      "source": [
        "train_df['gold_label'].unique()"
      ],
      "execution_count": null,
      "outputs": [
        {
          "output_type": "execute_result",
          "data": {
            "text/plain": [
              "array(['neutral', 'entailment', 'contradiction'], dtype=object)"
            ]
          },
          "metadata": {
            "tags": []
          },
          "execution_count": 68
        }
      ]
    },
    {
      "cell_type": "code",
      "metadata": {
        "id": "vDBtCt8-zoWU",
        "colab": {
          "base_uri": "https://localhost:8080/",
          "height": 34
        },
        "outputId": "2c1ad413-c647-48ca-ea37-ebce87a70add"
      },
      "source": [
        "val_df['gold_label'].unique()"
      ],
      "execution_count": null,
      "outputs": [
        {
          "output_type": "execute_result",
          "data": {
            "text/plain": [
              "array(['neutral', 'contradiction', 'entailment', '-'], dtype=object)"
            ]
          },
          "metadata": {
            "tags": []
          },
          "execution_count": 69
        }
      ]
    },
    {
      "cell_type": "code",
      "metadata": {
        "id": "SrxQbXLiz9O9",
        "colab": {
          "base_uri": "https://localhost:8080/",
          "height": 34
        },
        "outputId": "66b123ab-f08e-45e5-f772-2866013261e2"
      },
      "source": [
        "val_df = val_df[val_df['gold_label'] != '-']\n",
        "val_df['gold_label'].unique()"
      ],
      "execution_count": null,
      "outputs": [
        {
          "output_type": "execute_result",
          "data": {
            "text/plain": [
              "array(['neutral', 'contradiction', 'entailment'], dtype=object)"
            ]
          },
          "metadata": {
            "tags": []
          },
          "execution_count": 70
        }
      ]
    },
    {
      "cell_type": "code",
      "metadata": {
        "id": "60YHfAYw2kQ6"
      },
      "source": [
        "# train_df.to_csv('/content/drive/My Drive/Sentence entailment/train_data.csv')\n",
        "# val_df.to_csv('/content/drive/My Drive/Sentence entailment/val_data.csv')"
      ],
      "execution_count": null,
      "outputs": []
    },
    {
      "cell_type": "code",
      "metadata": {
        "id": "uPyptKnOfFCO"
      },
      "source": [
        "!mkdir -p ~/.kaggle\n",
        "!cp kaggle.json ~/.kaggle/"
      ],
      "execution_count": null,
      "outputs": []
    },
    {
      "cell_type": "code",
      "metadata": {
        "id": "alNxLv7hfD0M",
        "colab": {
          "base_uri": "https://localhost:8080/"
        },
        "outputId": "405ad4a7-8d09-4094-a6db-c56157db2820"
      },
      "source": [
        "!kaggle datasets download -d takuok/glove840b300dtxt"
      ],
      "execution_count": null,
      "outputs": [
        {
          "output_type": "stream",
          "text": [
            "Warning: Your Kaggle API key is readable by other users on this system! To fix this, you can run 'chmod 600 /root/.kaggle/kaggle.json'\n",
            "Downloading glove840b300dtxt.zip to /content\n",
            "100% 2.08G/2.08G [00:22<00:00, 35.6MB/s]\n",
            "\n"
          ],
          "name": "stdout"
        }
      ]
    },
    {
      "cell_type": "code",
      "metadata": {
        "id": "wzfJsGNgfHuO",
        "colab": {
          "base_uri": "https://localhost:8080/"
        },
        "outputId": "0f36cb0c-93fb-42af-e693-5a9691fc5617"
      },
      "source": [
        "!unzip /content/glove840b300dtxt.zip"
      ],
      "execution_count": null,
      "outputs": [
        {
          "output_type": "stream",
          "text": [
            "Archive:  /content/glove840b300dtxt.zip\n",
            "  inflating: glove.840B.300d.txt     \n"
          ],
          "name": "stdout"
        }
      ]
    },
    {
      "cell_type": "code",
      "metadata": {
        "id": "Eu47sNH1eJ2f"
      },
      "source": [
        "import pandas as pd"
      ],
      "execution_count": null,
      "outputs": []
    },
    {
      "cell_type": "code",
      "metadata": {
        "id": "01J7VfyMaK4J"
      },
      "source": [
        "train_df = pd.read_csv('/content/drive/My Drive/Sentence entailment/train_data.csv')\n",
        "val_df   = pd.read_csv('/content/drive/My Drive/Sentence entailment/val_data.csv')"
      ],
      "execution_count": null,
      "outputs": []
    },
    {
      "cell_type": "code",
      "metadata": {
        "id": "-JKY-Ic4WWP6"
      },
      "source": [
        "def get_word_map(count):  \n",
        "  word_map = {}\n",
        "  for num in count:\n",
        "    if num in word_map:\n",
        "      word_map[num] += 1\n",
        "    else:\n",
        "      word_map[num] = 1\n",
        "\n",
        "  return word_map"
      ],
      "execution_count": null,
      "outputs": []
    },
    {
      "cell_type": "code",
      "metadata": {
        "id": "PkHT67_aEFxj",
        "colab": {
          "base_uri": "https://localhost:8080/",
          "height": 47
        },
        "outputId": "3deea71c-d79d-4dc0-814b-99792c519541"
      },
      "source": [
        "train_df[(train_df['sentence1'] == '') | (train_df['sentence2'] == '')]"
      ],
      "execution_count": null,
      "outputs": [
        {
          "output_type": "execute_result",
          "data": {
            "text/html": [
              "<div>\n",
              "<style scoped>\n",
              "    .dataframe tbody tr th:only-of-type {\n",
              "        vertical-align: middle;\n",
              "    }\n",
              "\n",
              "    .dataframe tbody tr th {\n",
              "        vertical-align: top;\n",
              "    }\n",
              "\n",
              "    .dataframe thead th {\n",
              "        text-align: right;\n",
              "    }\n",
              "</style>\n",
              "<table border=\"1\" class=\"dataframe\">\n",
              "  <thead>\n",
              "    <tr style=\"text-align: right;\">\n",
              "      <th></th>\n",
              "      <th>Unnamed: 0</th>\n",
              "      <th>gold_label</th>\n",
              "      <th>sentence1</th>\n",
              "      <th>sentence2</th>\n",
              "    </tr>\n",
              "  </thead>\n",
              "  <tbody>\n",
              "  </tbody>\n",
              "</table>\n",
              "</div>"
            ],
            "text/plain": [
              "Empty DataFrame\n",
              "Columns: [Unnamed: 0, gold_label, sentence1, sentence2]\n",
              "Index: []"
            ]
          },
          "metadata": {
            "tags": []
          },
          "execution_count": 7
        }
      ]
    },
    {
      "cell_type": "code",
      "metadata": {
        "id": "3lx41bVBdUwB"
      },
      "source": [
        "train_df = train_df.dropna()\n",
        "val_df = val_df.dropna()"
      ],
      "execution_count": null,
      "outputs": []
    },
    {
      "cell_type": "code",
      "metadata": {
        "id": "Qa7NF17iYAV9",
        "colab": {
          "base_uri": "https://localhost:8080/",
          "height": 47
        },
        "outputId": "1da65ec5-efe3-447b-ef09-35a55372e2e5"
      },
      "source": [
        "train_df[(train_df['sentence1'].isnull()) | (train_df['sentence2'].isnull())]"
      ],
      "execution_count": null,
      "outputs": [
        {
          "output_type": "execute_result",
          "data": {
            "text/html": [
              "<div>\n",
              "<style scoped>\n",
              "    .dataframe tbody tr th:only-of-type {\n",
              "        vertical-align: middle;\n",
              "    }\n",
              "\n",
              "    .dataframe tbody tr th {\n",
              "        vertical-align: top;\n",
              "    }\n",
              "\n",
              "    .dataframe thead th {\n",
              "        text-align: right;\n",
              "    }\n",
              "</style>\n",
              "<table border=\"1\" class=\"dataframe\">\n",
              "  <thead>\n",
              "    <tr style=\"text-align: right;\">\n",
              "      <th></th>\n",
              "      <th>Unnamed: 0</th>\n",
              "      <th>gold_label</th>\n",
              "      <th>sentence1</th>\n",
              "      <th>sentence2</th>\n",
              "    </tr>\n",
              "  </thead>\n",
              "  <tbody>\n",
              "  </tbody>\n",
              "</table>\n",
              "</div>"
            ],
            "text/plain": [
              "Empty DataFrame\n",
              "Columns: [Unnamed: 0, gold_label, sentence1, sentence2]\n",
              "Index: []"
            ]
          },
          "metadata": {
            "tags": []
          },
          "execution_count": 9
        }
      ]
    },
    {
      "cell_type": "code",
      "metadata": {
        "id": "0W1rT_XNEKT9",
        "colab": {
          "base_uri": "https://localhost:8080/",
          "height": 47
        },
        "outputId": "868ccce3-6c35-42f4-a1a0-8512fc7b1ce6"
      },
      "source": [
        "val_df[(val_df['sentence1'] == '') | (val_df['sentence2'] == '')]"
      ],
      "execution_count": null,
      "outputs": [
        {
          "output_type": "execute_result",
          "data": {
            "text/html": [
              "<div>\n",
              "<style scoped>\n",
              "    .dataframe tbody tr th:only-of-type {\n",
              "        vertical-align: middle;\n",
              "    }\n",
              "\n",
              "    .dataframe tbody tr th {\n",
              "        vertical-align: top;\n",
              "    }\n",
              "\n",
              "    .dataframe thead th {\n",
              "        text-align: right;\n",
              "    }\n",
              "</style>\n",
              "<table border=\"1\" class=\"dataframe\">\n",
              "  <thead>\n",
              "    <tr style=\"text-align: right;\">\n",
              "      <th></th>\n",
              "      <th>Unnamed: 0</th>\n",
              "      <th>gold_label</th>\n",
              "      <th>sentence1</th>\n",
              "      <th>sentence2</th>\n",
              "    </tr>\n",
              "  </thead>\n",
              "  <tbody>\n",
              "  </tbody>\n",
              "</table>\n",
              "</div>"
            ],
            "text/plain": [
              "Empty DataFrame\n",
              "Columns: [Unnamed: 0, gold_label, sentence1, sentence2]\n",
              "Index: []"
            ]
          },
          "metadata": {
            "tags": []
          },
          "execution_count": 10
        }
      ]
    },
    {
      "cell_type": "code",
      "metadata": {
        "id": "idD4ciKIbBBn",
        "colab": {
          "base_uri": "https://localhost:8080/",
          "height": 415
        },
        "outputId": "d8b6cb7b-995c-4dfc-ffa2-35026c94a7bb"
      },
      "source": [
        "train_df[(train_df['sentence1'].str.split().str.len() == 1) | (train_df['sentence2'].str.split().str.len() == 1)]"
      ],
      "execution_count": null,
      "outputs": [
        {
          "output_type": "execute_result",
          "data": {
            "text/html": [
              "<div>\n",
              "<style scoped>\n",
              "    .dataframe tbody tr th:only-of-type {\n",
              "        vertical-align: middle;\n",
              "    }\n",
              "\n",
              "    .dataframe tbody tr th {\n",
              "        vertical-align: top;\n",
              "    }\n",
              "\n",
              "    .dataframe thead th {\n",
              "        text-align: right;\n",
              "    }\n",
              "</style>\n",
              "<table border=\"1\" class=\"dataframe\">\n",
              "  <thead>\n",
              "    <tr style=\"text-align: right;\">\n",
              "      <th></th>\n",
              "      <th>Unnamed: 0</th>\n",
              "      <th>gold_label</th>\n",
              "      <th>sentence1</th>\n",
              "      <th>sentence2</th>\n",
              "    </tr>\n",
              "  </thead>\n",
              "  <tbody>\n",
              "    <tr>\n",
              "      <th>8</th>\n",
              "      <td>8</td>\n",
              "      <td>contradiction</td>\n",
              "      <td>Gays and lesbians.</td>\n",
              "      <td>Heterosexuals.</td>\n",
              "    </tr>\n",
              "    <tr>\n",
              "      <th>1489</th>\n",
              "      <td>1489</td>\n",
              "      <td>neutral</td>\n",
              "      <td>Really?</td>\n",
              "      <td>Is that the case?</td>\n",
              "    </tr>\n",
              "    <tr>\n",
              "      <th>1738</th>\n",
              "      <td>1738</td>\n",
              "      <td>entailment</td>\n",
              "      <td>The devil!</td>\n",
              "      <td>Lucifer!</td>\n",
              "    </tr>\n",
              "    <tr>\n",
              "      <th>1819</th>\n",
              "      <td>1819</td>\n",
              "      <td>contradiction</td>\n",
              "      <td>'Unlikely.</td>\n",
              "      <td>That is very possible.</td>\n",
              "    </tr>\n",
              "    <tr>\n",
              "      <th>2217</th>\n",
              "      <td>2217</td>\n",
              "      <td>contradiction</td>\n",
              "      <td>'Don't worry.</td>\n",
              "      <td>Panic!</td>\n",
              "    </tr>\n",
              "    <tr>\n",
              "      <th>...</th>\n",
              "      <td>...</td>\n",
              "      <td>...</td>\n",
              "      <td>...</td>\n",
              "      <td>...</td>\n",
              "    </tr>\n",
              "    <tr>\n",
              "      <th>390647</th>\n",
              "      <td>390647</td>\n",
              "      <td>contradiction</td>\n",
              "      <td>'Stretching?'</td>\n",
              "      <td>Remaining stiff.</td>\n",
              "    </tr>\n",
              "    <tr>\n",
              "      <th>390717</th>\n",
              "      <td>390717</td>\n",
              "      <td>neutral</td>\n",
              "      <td>Sparkly things.</td>\n",
              "      <td>Glitter.</td>\n",
              "    </tr>\n",
              "    <tr>\n",
              "      <th>391451</th>\n",
              "      <td>391451</td>\n",
              "      <td>contradiction</td>\n",
              "      <td>Each year</td>\n",
              "      <td>never</td>\n",
              "    </tr>\n",
              "    <tr>\n",
              "      <th>392153</th>\n",
              "      <td>392153</td>\n",
              "      <td>contradiction</td>\n",
              "      <td>Rocamadour</td>\n",
              "      <td>The Arch de Triumph.</td>\n",
              "    </tr>\n",
              "    <tr>\n",
              "      <th>392505</th>\n",
              "      <td>392505</td>\n",
              "      <td>entailment</td>\n",
              "      <td>DEFINITIONS.</td>\n",
              "      <td>The line states the word definitions.</td>\n",
              "    </tr>\n",
              "  </tbody>\n",
              "</table>\n",
              "<p>923 rows × 4 columns</p>\n",
              "</div>"
            ],
            "text/plain": [
              "        Unnamed: 0  ...                               sentence2\n",
              "8                8  ...                          Heterosexuals.\n",
              "1489          1489  ...                       Is that the case?\n",
              "1738          1738  ...                                Lucifer!\n",
              "1819          1819  ...                  That is very possible.\n",
              "2217          2217  ...                                  Panic!\n",
              "...            ...  ...                                     ...\n",
              "390647      390647  ...                        Remaining stiff.\n",
              "390717      390717  ...                               Glitter. \n",
              "391451      391451  ...                                   never\n",
              "392153      392153  ...                    The Arch de Triumph.\n",
              "392505      392505  ...  The line states the word definitions. \n",
              "\n",
              "[923 rows x 4 columns]"
            ]
          },
          "metadata": {
            "tags": []
          },
          "execution_count": 13
        }
      ]
    },
    {
      "cell_type": "code",
      "metadata": {
        "id": "QiSXD8QoUNQy"
      },
      "source": [
        "count_premise = train_df['sentence1'].str.split().str.len()\n",
        "get_word_map(count_premise)"
      ],
      "execution_count": null,
      "outputs": []
    },
    {
      "cell_type": "code",
      "metadata": {
        "id": "Oe0rSWZoXRz5"
      },
      "source": [
        "count_hypothesis = train_df['sentence2'].str.split().str.len()\n",
        "get_word_map(count_hypothesis)"
      ],
      "execution_count": null,
      "outputs": []
    },
    {
      "cell_type": "code",
      "metadata": {
        "id": "ke80NEHpbFfe",
        "colab": {
          "base_uri": "https://localhost:8080/",
          "height": 402
        },
        "outputId": "129ccd16-7245-4383-c547-e38822626e1e"
      },
      "source": [
        "val_df"
      ],
      "execution_count": null,
      "outputs": [
        {
          "output_type": "execute_result",
          "data": {
            "text/html": [
              "<div>\n",
              "<style scoped>\n",
              "    .dataframe tbody tr th:only-of-type {\n",
              "        vertical-align: middle;\n",
              "    }\n",
              "\n",
              "    .dataframe tbody tr th {\n",
              "        vertical-align: top;\n",
              "    }\n",
              "\n",
              "    .dataframe thead th {\n",
              "        text-align: right;\n",
              "    }\n",
              "</style>\n",
              "<table border=\"1\" class=\"dataframe\">\n",
              "  <thead>\n",
              "    <tr style=\"text-align: right;\">\n",
              "      <th></th>\n",
              "      <th>Unnamed: 0</th>\n",
              "      <th>gold_label</th>\n",
              "      <th>sentence1</th>\n",
              "      <th>sentence2</th>\n",
              "    </tr>\n",
              "  </thead>\n",
              "  <tbody>\n",
              "    <tr>\n",
              "      <th>0</th>\n",
              "      <td>0</td>\n",
              "      <td>neutral</td>\n",
              "      <td>The new rights are nice enough</td>\n",
              "      <td>Everyone really likes the newest benefits</td>\n",
              "    </tr>\n",
              "    <tr>\n",
              "      <th>1</th>\n",
              "      <td>1</td>\n",
              "      <td>contradiction</td>\n",
              "      <td>This site includes a list of all award winners...</td>\n",
              "      <td>The Government Executive articles housed on th...</td>\n",
              "    </tr>\n",
              "    <tr>\n",
              "      <th>2</th>\n",
              "      <td>2</td>\n",
              "      <td>entailment</td>\n",
              "      <td>uh i don't know i i have mixed emotions about ...</td>\n",
              "      <td>I like him for the most part, but would still ...</td>\n",
              "    </tr>\n",
              "    <tr>\n",
              "      <th>3</th>\n",
              "      <td>3</td>\n",
              "      <td>contradiction</td>\n",
              "      <td>yeah i i think my favorite restaurant is alway...</td>\n",
              "      <td>My favorite restaurants are always at least a ...</td>\n",
              "    </tr>\n",
              "    <tr>\n",
              "      <th>4</th>\n",
              "      <td>4</td>\n",
              "      <td>contradiction</td>\n",
              "      <td>i don't know um do you do a lot of camping</td>\n",
              "      <td>I know exactly.</td>\n",
              "    </tr>\n",
              "    <tr>\n",
              "      <th>...</th>\n",
              "      <td>...</td>\n",
              "      <td>...</td>\n",
              "      <td>...</td>\n",
              "      <td>...</td>\n",
              "    </tr>\n",
              "    <tr>\n",
              "      <th>9810</th>\n",
              "      <td>9995</td>\n",
              "      <td>neutral</td>\n",
              "      <td>Since 1998, LSC has initiated and overseen sig...</td>\n",
              "      <td>LSC has been focusing on improving it's state ...</td>\n",
              "    </tr>\n",
              "    <tr>\n",
              "      <th>9811</th>\n",
              "      <td>9996</td>\n",
              "      <td>contradiction</td>\n",
              "      <td>Eighty percent of pagers in the United States ...</td>\n",
              "      <td>Pagers in the United States were unaffected by...</td>\n",
              "    </tr>\n",
              "    <tr>\n",
              "      <th>9812</th>\n",
              "      <td>9997</td>\n",
              "      <td>entailment</td>\n",
              "      <td>Finally, the FDA will conduct workshops, issue...</td>\n",
              "      <td>The FDA is set to conduct workshops.</td>\n",
              "    </tr>\n",
              "    <tr>\n",
              "      <th>9813</th>\n",
              "      <td>9998</td>\n",
              "      <td>entailment</td>\n",
              "      <td>Cirque du Soleil's The latest from the acclaim...</td>\n",
              "      <td>Cirque du Soleil is an international troupe.</td>\n",
              "    </tr>\n",
              "    <tr>\n",
              "      <th>9814</th>\n",
              "      <td>9999</td>\n",
              "      <td>contradiction</td>\n",
              "      <td>i'll listen  and agree with what i think sound...</td>\n",
              "      <td>I wont even bother listening.</td>\n",
              "    </tr>\n",
              "  </tbody>\n",
              "</table>\n",
              "<p>9815 rows × 4 columns</p>\n",
              "</div>"
            ],
            "text/plain": [
              "      Unnamed: 0  ...                                          sentence2\n",
              "0              0  ...         Everyone really likes the newest benefits \n",
              "1              1  ...  The Government Executive articles housed on th...\n",
              "2              2  ...  I like him for the most part, but would still ...\n",
              "3              3  ...  My favorite restaurants are always at least a ...\n",
              "4              4  ...                                    I know exactly.\n",
              "...          ...  ...                                                ...\n",
              "9810        9995  ...  LSC has been focusing on improving it's state ...\n",
              "9811        9996  ...  Pagers in the United States were unaffected by...\n",
              "9812        9997  ...              The FDA is set to conduct workshops. \n",
              "9813        9998  ...       Cirque du Soleil is an international troupe.\n",
              "9814        9999  ...                      I wont even bother listening.\n",
              "\n",
              "[9815 rows x 4 columns]"
            ]
          },
          "metadata": {
            "tags": []
          },
          "execution_count": 15
        }
      ]
    },
    {
      "cell_type": "code",
      "metadata": {
        "id": "OEzEBj5D3jn7",
        "colab": {
          "base_uri": "https://localhost:8080/"
        },
        "outputId": "90017b5a-fb94-4b15-c407-8d8ced23d973"
      },
      "source": [
        "import matplotlib.pyplot as plt\n",
        "import nltk\n",
        "nltk.download('stopwords')\n",
        "nltk.download('punkt')\n",
        "nltk.download('wordnet')\n",
        "from nltk.corpus import stopwords\n",
        "from nltk.stem import WordNetLemmatizer \n",
        "from nltk.tokenize import word_tokenize \n",
        "import torch\n",
        "import torch.nn as nn\n",
        "import torch.optim as optim\n",
        "import torch.nn.functional as F\n",
        "from torch.utils.data import Dataset, DataLoader\n",
        "from torch.nn.utils.rnn import pad_sequence, pack_padded_sequence, pad_packed_sequence\n",
        "from sklearn.preprocessing import LabelBinarizer\n",
        "import seaborn as sns\n",
        "from string import punctuation\n",
        "import re\n",
        "from gensim.models import KeyedVectors\n",
        "import numpy as np"
      ],
      "execution_count": null,
      "outputs": [
        {
          "output_type": "stream",
          "text": [
            "[nltk_data] Downloading package stopwords to /root/nltk_data...\n",
            "[nltk_data]   Unzipping corpora/stopwords.zip.\n",
            "[nltk_data] Downloading package punkt to /root/nltk_data...\n",
            "[nltk_data]   Unzipping tokenizers/punkt.zip.\n",
            "[nltk_data] Downloading package wordnet to /root/nltk_data...\n",
            "[nltk_data]   Unzipping corpora/wordnet.zip.\n"
          ],
          "name": "stdout"
        }
      ]
    },
    {
      "cell_type": "code",
      "metadata": {
        "id": "ciztwZ4nHhjD"
      },
      "source": [
        "def clean_text(text, stop_words = False, lemmatization = False):\n",
        "  text = text.lower().split()\n",
        "  if stop_words:\n",
        "    stop = stopwords.words('english')\n",
        "    stops = set(stopwords.words(\"english\"))\n",
        "    text = [w for w in text if not w in stops]\n",
        "  \n",
        "  text = \" \".join(text)\n",
        "  text = re.sub(\"[^A-Za-z']+\", ' ', str(text)).replace(\"'\", '')\n",
        "  text = re.sub(r\"\\bum*\\b\", \"\", text)\n",
        "  text = re.sub(r\"\\buh*\\b\", \"\", text)\n",
        "  text = re.sub(r\"won\\'t\", \"will not\", text)\n",
        "  text = re.sub(r\"can\\'t\", \"can not\", text)\n",
        "  text = re.sub(r\"can\\'t\", \"can not\", text)\n",
        "  text = re.sub(r\"n\\'t\", \" not\", text)\n",
        "  text = re.sub(r\"\\'re\", \" are\", text)\n",
        "  text = re.sub(r\"\\'s\", \" is\", text)\n",
        "  text = re.sub(r\"\\'d\", \" would\", text)\n",
        "  text = re.sub(r\"\\'ll\", \" will\", text)\n",
        "  text = re.sub(r\"\\'t\", \" not\", text)\n",
        "  text = re.sub(r\"\\'ve\", \" have\", text)\n",
        "  text = re.sub(r\"\\'m\", \" am\", text)\n",
        "  if lemmatization:\n",
        "    lemmatizer = WordNetLemmatizer()\n",
        "    text = ' '.join([lemmatizer.lemmatize(w) for w in word_tokenize(text)])\n",
        "  \n",
        "  text = text.translate(str.maketrans('', '', punctuation))\n",
        "  return text.strip()"
      ],
      "execution_count": null,
      "outputs": []
    },
    {
      "cell_type": "code",
      "metadata": {
        "id": "J_ckY0UgH2Yf"
      },
      "source": [
        "train_df['sentence1'] = train_df['sentence1'].astype(str).apply(lambda text: clean_text(text))\n",
        "train_df['sentence2'] = train_df['sentence2'].astype(str).apply(lambda text: clean_text(text))\n",
        "val_df['sentence1'] = val_df['sentence1'].astype(str).apply(lambda text: clean_text(text))\n",
        "val_df['sentence2'] = val_df['sentence2'].astype(str).apply(lambda text: clean_text(text))"
      ],
      "execution_count": null,
      "outputs": []
    },
    {
      "cell_type": "code",
      "metadata": {
        "id": "QNKriBM4DnNx",
        "colab": {
          "base_uri": "https://localhost:8080/",
          "height": 47
        },
        "outputId": "66be186d-477f-46f3-e379-31084865ef39"
      },
      "source": [
        "train_df[(train_df['sentence1'] == '') | (train_df['sentence2'] == '')]"
      ],
      "execution_count": null,
      "outputs": [
        {
          "output_type": "execute_result",
          "data": {
            "text/html": [
              "<div>\n",
              "<style scoped>\n",
              "    .dataframe tbody tr th:only-of-type {\n",
              "        vertical-align: middle;\n",
              "    }\n",
              "\n",
              "    .dataframe tbody tr th {\n",
              "        vertical-align: top;\n",
              "    }\n",
              "\n",
              "    .dataframe thead th {\n",
              "        text-align: right;\n",
              "    }\n",
              "</style>\n",
              "<table border=\"1\" class=\"dataframe\">\n",
              "  <thead>\n",
              "    <tr style=\"text-align: right;\">\n",
              "      <th></th>\n",
              "      <th>Unnamed: 0</th>\n",
              "      <th>gold_label</th>\n",
              "      <th>sentence1</th>\n",
              "      <th>sentence2</th>\n",
              "    </tr>\n",
              "  </thead>\n",
              "  <tbody>\n",
              "  </tbody>\n",
              "</table>\n",
              "</div>"
            ],
            "text/plain": [
              "Empty DataFrame\n",
              "Columns: [Unnamed: 0, gold_label, sentence1, sentence2]\n",
              "Index: []"
            ]
          },
          "metadata": {
            "tags": []
          },
          "execution_count": 14
        }
      ]
    },
    {
      "cell_type": "code",
      "metadata": {
        "id": "yuij8RS7Fxj4",
        "colab": {
          "base_uri": "https://localhost:8080/",
          "height": 47
        },
        "outputId": "ec261466-940c-4518-ee6e-9f1b8e95d5c6"
      },
      "source": [
        "val_df[(val_df['sentence1'] == '') | (val_df['sentence2'] == '')]"
      ],
      "execution_count": null,
      "outputs": [
        {
          "output_type": "execute_result",
          "data": {
            "text/html": [
              "<div>\n",
              "<style scoped>\n",
              "    .dataframe tbody tr th:only-of-type {\n",
              "        vertical-align: middle;\n",
              "    }\n",
              "\n",
              "    .dataframe tbody tr th {\n",
              "        vertical-align: top;\n",
              "    }\n",
              "\n",
              "    .dataframe thead th {\n",
              "        text-align: right;\n",
              "    }\n",
              "</style>\n",
              "<table border=\"1\" class=\"dataframe\">\n",
              "  <thead>\n",
              "    <tr style=\"text-align: right;\">\n",
              "      <th></th>\n",
              "      <th>Unnamed: 0</th>\n",
              "      <th>gold_label</th>\n",
              "      <th>sentence1</th>\n",
              "      <th>sentence2</th>\n",
              "    </tr>\n",
              "  </thead>\n",
              "  <tbody>\n",
              "  </tbody>\n",
              "</table>\n",
              "</div>"
            ],
            "text/plain": [
              "Empty DataFrame\n",
              "Columns: [Unnamed: 0, gold_label, sentence1, sentence2]\n",
              "Index: []"
            ]
          },
          "metadata": {
            "tags": []
          },
          "execution_count": 15
        }
      ]
    },
    {
      "cell_type": "code",
      "metadata": {
        "id": "rTxnIylrmTrk"
      },
      "source": [
        "train_df = train_df.dropna()\n",
        "val_df = val_df.dropna()"
      ],
      "execution_count": null,
      "outputs": []
    },
    {
      "cell_type": "code",
      "metadata": {
        "id": "_BLDYsq39SLn",
        "colab": {
          "base_uri": "https://localhost:8080/",
          "height": 47
        },
        "outputId": "003a6ba2-66c3-460b-f159-663cc320f72d"
      },
      "source": [
        "train_df[(train_df['sentence1'].str.split().str.len() == 0) | (train_df['sentence2'].str.split().str.len() == 0)]"
      ],
      "execution_count": null,
      "outputs": [
        {
          "output_type": "execute_result",
          "data": {
            "text/html": [
              "<div>\n",
              "<style scoped>\n",
              "    .dataframe tbody tr th:only-of-type {\n",
              "        vertical-align: middle;\n",
              "    }\n",
              "\n",
              "    .dataframe tbody tr th {\n",
              "        vertical-align: top;\n",
              "    }\n",
              "\n",
              "    .dataframe thead th {\n",
              "        text-align: right;\n",
              "    }\n",
              "</style>\n",
              "<table border=\"1\" class=\"dataframe\">\n",
              "  <thead>\n",
              "    <tr style=\"text-align: right;\">\n",
              "      <th></th>\n",
              "      <th>Unnamed: 0</th>\n",
              "      <th>gold_label</th>\n",
              "      <th>sentence1</th>\n",
              "      <th>sentence2</th>\n",
              "    </tr>\n",
              "  </thead>\n",
              "  <tbody>\n",
              "  </tbody>\n",
              "</table>\n",
              "</div>"
            ],
            "text/plain": [
              "Empty DataFrame\n",
              "Columns: [Unnamed: 0, gold_label, sentence1, sentence2]\n",
              "Index: []"
            ]
          },
          "metadata": {
            "tags": []
          },
          "execution_count": 17
        }
      ]
    },
    {
      "cell_type": "code",
      "metadata": {
        "id": "UGrnIXbRpU6V"
      },
      "source": [
        "train_df = train_df[(train_df['sentence1'].str.split().str.len() > 0) & (train_df['sentence2'].str.split().str.len() > 0)]"
      ],
      "execution_count": null,
      "outputs": []
    },
    {
      "cell_type": "code",
      "metadata": {
        "id": "AgEIkZf5mKQ7",
        "colab": {
          "base_uri": "https://localhost:8080/",
          "height": 47
        },
        "outputId": "cc225785-f7cc-4761-cbe3-30dfcca1ea6a"
      },
      "source": [
        "train_df[(train_df['sentence1'].str.split().str.len() == 0) | (train_df['sentence2'].str.split().str.len() == 0)]"
      ],
      "execution_count": null,
      "outputs": [
        {
          "output_type": "execute_result",
          "data": {
            "text/html": [
              "<div>\n",
              "<style scoped>\n",
              "    .dataframe tbody tr th:only-of-type {\n",
              "        vertical-align: middle;\n",
              "    }\n",
              "\n",
              "    .dataframe tbody tr th {\n",
              "        vertical-align: top;\n",
              "    }\n",
              "\n",
              "    .dataframe thead th {\n",
              "        text-align: right;\n",
              "    }\n",
              "</style>\n",
              "<table border=\"1\" class=\"dataframe\">\n",
              "  <thead>\n",
              "    <tr style=\"text-align: right;\">\n",
              "      <th></th>\n",
              "      <th>Unnamed: 0</th>\n",
              "      <th>gold_label</th>\n",
              "      <th>sentence1</th>\n",
              "      <th>sentence2</th>\n",
              "    </tr>\n",
              "  </thead>\n",
              "  <tbody>\n",
              "  </tbody>\n",
              "</table>\n",
              "</div>"
            ],
            "text/plain": [
              "Empty DataFrame\n",
              "Columns: [Unnamed: 0, gold_label, sentence1, sentence2]\n",
              "Index: []"
            ]
          },
          "metadata": {
            "tags": []
          },
          "execution_count": 19
        }
      ]
    },
    {
      "cell_type": "code",
      "metadata": {
        "id": "ma5Sbc6Z9UvO",
        "colab": {
          "base_uri": "https://localhost:8080/",
          "height": 47
        },
        "outputId": "e75dea61-76ce-4daa-f1ff-da5cd76ad8a3"
      },
      "source": [
        "val_df[(val_df['sentence1'].str.split().str.len() == 0) | (val_df['sentence2'].str.split().str.len() == 0)]"
      ],
      "execution_count": null,
      "outputs": [
        {
          "output_type": "execute_result",
          "data": {
            "text/html": [
              "<div>\n",
              "<style scoped>\n",
              "    .dataframe tbody tr th:only-of-type {\n",
              "        vertical-align: middle;\n",
              "    }\n",
              "\n",
              "    .dataframe tbody tr th {\n",
              "        vertical-align: top;\n",
              "    }\n",
              "\n",
              "    .dataframe thead th {\n",
              "        text-align: right;\n",
              "    }\n",
              "</style>\n",
              "<table border=\"1\" class=\"dataframe\">\n",
              "  <thead>\n",
              "    <tr style=\"text-align: right;\">\n",
              "      <th></th>\n",
              "      <th>Unnamed: 0</th>\n",
              "      <th>gold_label</th>\n",
              "      <th>sentence1</th>\n",
              "      <th>sentence2</th>\n",
              "    </tr>\n",
              "  </thead>\n",
              "  <tbody>\n",
              "  </tbody>\n",
              "</table>\n",
              "</div>"
            ],
            "text/plain": [
              "Empty DataFrame\n",
              "Columns: [Unnamed: 0, gold_label, sentence1, sentence2]\n",
              "Index: []"
            ]
          },
          "metadata": {
            "tags": []
          },
          "execution_count": 20
        }
      ]
    },
    {
      "cell_type": "code",
      "metadata": {
        "id": "riwlr0-1pkXl"
      },
      "source": [
        "val_df = val_df[(val_df['sentence1'].str.split().str.len() > 0) & (val_df['sentence2'].str.split().str.len() > 0)]"
      ],
      "execution_count": null,
      "outputs": []
    },
    {
      "cell_type": "code",
      "metadata": {
        "id": "nuwbUM9UmVF4",
        "colab": {
          "base_uri": "https://localhost:8080/",
          "height": 47
        },
        "outputId": "ec7156c1-8d78-4973-cff8-351f8c365df9"
      },
      "source": [
        "val_df[(val_df['sentence1'].str.split().str.len() == 0) | (val_df['sentence2'].str.split().str.len() == 0)]"
      ],
      "execution_count": null,
      "outputs": [
        {
          "output_type": "execute_result",
          "data": {
            "text/html": [
              "<div>\n",
              "<style scoped>\n",
              "    .dataframe tbody tr th:only-of-type {\n",
              "        vertical-align: middle;\n",
              "    }\n",
              "\n",
              "    .dataframe tbody tr th {\n",
              "        vertical-align: top;\n",
              "    }\n",
              "\n",
              "    .dataframe thead th {\n",
              "        text-align: right;\n",
              "    }\n",
              "</style>\n",
              "<table border=\"1\" class=\"dataframe\">\n",
              "  <thead>\n",
              "    <tr style=\"text-align: right;\">\n",
              "      <th></th>\n",
              "      <th>Unnamed: 0</th>\n",
              "      <th>gold_label</th>\n",
              "      <th>sentence1</th>\n",
              "      <th>sentence2</th>\n",
              "    </tr>\n",
              "  </thead>\n",
              "  <tbody>\n",
              "  </tbody>\n",
              "</table>\n",
              "</div>"
            ],
            "text/plain": [
              "Empty DataFrame\n",
              "Columns: [Unnamed: 0, gold_label, sentence1, sentence2]\n",
              "Index: []"
            ]
          },
          "metadata": {
            "tags": []
          },
          "execution_count": 22
        }
      ]
    },
    {
      "cell_type": "code",
      "metadata": {
        "id": "iKG4ydYYpuFx",
        "colab": {
          "base_uri": "https://localhost:8080/",
          "height": 537
        },
        "outputId": "baa5e9e0-9327-4fe5-fa20-e573a8029390"
      },
      "source": [
        "train_df"
      ],
      "execution_count": null,
      "outputs": [
        {
          "output_type": "execute_result",
          "data": {
            "text/html": [
              "<div>\n",
              "<style scoped>\n",
              "    .dataframe tbody tr th:only-of-type {\n",
              "        vertical-align: middle;\n",
              "    }\n",
              "\n",
              "    .dataframe tbody tr th {\n",
              "        vertical-align: top;\n",
              "    }\n",
              "\n",
              "    .dataframe thead th {\n",
              "        text-align: right;\n",
              "    }\n",
              "</style>\n",
              "<table border=\"1\" class=\"dataframe\">\n",
              "  <thead>\n",
              "    <tr style=\"text-align: right;\">\n",
              "      <th></th>\n",
              "      <th>Unnamed: 0</th>\n",
              "      <th>gold_label</th>\n",
              "      <th>sentence1</th>\n",
              "      <th>sentence2</th>\n",
              "    </tr>\n",
              "  </thead>\n",
              "  <tbody>\n",
              "    <tr>\n",
              "      <th>0</th>\n",
              "      <td>0</td>\n",
              "      <td>neutral</td>\n",
              "      <td>conceptually cream skimming ha two basic dimen...</td>\n",
              "      <td>product and geography are what make cream skim...</td>\n",
              "    </tr>\n",
              "    <tr>\n",
              "      <th>1</th>\n",
              "      <td>1</td>\n",
              "      <td>entailment</td>\n",
              "      <td>you know during the season and i guess at at y...</td>\n",
              "      <td>you lose the thing to the following level if t...</td>\n",
              "    </tr>\n",
              "    <tr>\n",
              "      <th>2</th>\n",
              "      <td>2</td>\n",
              "      <td>entailment</td>\n",
              "      <td>one of our number will carry out your instruct...</td>\n",
              "      <td>a member of my team will execute your order wi...</td>\n",
              "    </tr>\n",
              "    <tr>\n",
              "      <th>3</th>\n",
              "      <td>3</td>\n",
              "      <td>entailment</td>\n",
              "      <td>how do you know all this is their information ...</td>\n",
              "      <td>this information belongs to them</td>\n",
              "    </tr>\n",
              "    <tr>\n",
              "      <th>4</th>\n",
              "      <td>4</td>\n",
              "      <td>neutral</td>\n",
              "      <td>yeah i tell you what though if you go price so...</td>\n",
              "      <td>the tennis shoe have a range of price</td>\n",
              "    </tr>\n",
              "    <tr>\n",
              "      <th>...</th>\n",
              "      <td>...</td>\n",
              "      <td>...</td>\n",
              "      <td>...</td>\n",
              "      <td>...</td>\n",
              "    </tr>\n",
              "    <tr>\n",
              "      <th>392697</th>\n",
              "      <td>392697</td>\n",
              "      <td>contradiction</td>\n",
              "      <td>clearly california can and must do better</td>\n",
              "      <td>california can not do any better</td>\n",
              "    </tr>\n",
              "    <tr>\n",
              "      <th>392698</th>\n",
              "      <td>392698</td>\n",
              "      <td>neutral</td>\n",
              "      <td>it wa once regarded a the most beautiful stree...</td>\n",
              "      <td>so many of the original building had been repl...</td>\n",
              "    </tr>\n",
              "    <tr>\n",
              "      <th>392699</th>\n",
              "      <td>392699</td>\n",
              "      <td>entailment</td>\n",
              "      <td>houseboat are a beautifully preserved traditio...</td>\n",
              "      <td>the tradition of houseboat originated while th...</td>\n",
              "    </tr>\n",
              "    <tr>\n",
              "      <th>392700</th>\n",
              "      <td>392700</td>\n",
              "      <td>neutral</td>\n",
              "      <td>obituary fondly recalled his on air debate and...</td>\n",
              "      <td>the obituary were beautiful and written in kin...</td>\n",
              "    </tr>\n",
              "    <tr>\n",
              "      <th>392701</th>\n",
              "      <td>392701</td>\n",
              "      <td>neutral</td>\n",
              "      <td>in that other you know that i should do it or ...</td>\n",
              "      <td>my husband ha been so overworked lately that i...</td>\n",
              "    </tr>\n",
              "  </tbody>\n",
              "</table>\n",
              "<p>392662 rows × 4 columns</p>\n",
              "</div>"
            ],
            "text/plain": [
              "        Unnamed: 0  ...                                          sentence2\n",
              "0                0  ...  product and geography are what make cream skim...\n",
              "1                1  ...  you lose the thing to the following level if t...\n",
              "2                2  ...  a member of my team will execute your order wi...\n",
              "3                3  ...                   this information belongs to them\n",
              "4                4  ...              the tennis shoe have a range of price\n",
              "...            ...  ...                                                ...\n",
              "392697      392697  ...                   california can not do any better\n",
              "392698      392698  ...  so many of the original building had been repl...\n",
              "392699      392699  ...  the tradition of houseboat originated while th...\n",
              "392700      392700  ...  the obituary were beautiful and written in kin...\n",
              "392701      392701  ...  my husband ha been so overworked lately that i...\n",
              "\n",
              "[392662 rows x 4 columns]"
            ]
          },
          "metadata": {
            "tags": []
          },
          "execution_count": 29
        }
      ]
    },
    {
      "cell_type": "code",
      "metadata": {
        "id": "-oGbVw2P-Bvu",
        "colab": {
          "base_uri": "https://localhost:8080/",
          "height": 467
        },
        "outputId": "22e76fff-47c9-48d2-f063-4f06bc3e5412"
      },
      "source": [
        "val_df"
      ],
      "execution_count": null,
      "outputs": [
        {
          "output_type": "execute_result",
          "data": {
            "text/html": [
              "<div>\n",
              "<style scoped>\n",
              "    .dataframe tbody tr th:only-of-type {\n",
              "        vertical-align: middle;\n",
              "    }\n",
              "\n",
              "    .dataframe tbody tr th {\n",
              "        vertical-align: top;\n",
              "    }\n",
              "\n",
              "    .dataframe thead th {\n",
              "        text-align: right;\n",
              "    }\n",
              "</style>\n",
              "<table border=\"1\" class=\"dataframe\">\n",
              "  <thead>\n",
              "    <tr style=\"text-align: right;\">\n",
              "      <th></th>\n",
              "      <th>Unnamed: 0</th>\n",
              "      <th>gold_label</th>\n",
              "      <th>sentence1</th>\n",
              "      <th>sentence2</th>\n",
              "    </tr>\n",
              "  </thead>\n",
              "  <tbody>\n",
              "    <tr>\n",
              "      <th>0</th>\n",
              "      <td>0</td>\n",
              "      <td>neutral</td>\n",
              "      <td>the new right are nice enough</td>\n",
              "      <td>everyone really like the newest benefit</td>\n",
              "    </tr>\n",
              "    <tr>\n",
              "      <th>1</th>\n",
              "      <td>1</td>\n",
              "      <td>contradiction</td>\n",
              "      <td>this site includes a list of all award winner ...</td>\n",
              "      <td>the government executive article housed on the...</td>\n",
              "    </tr>\n",
              "    <tr>\n",
              "      <th>2</th>\n",
              "      <td>2</td>\n",
              "      <td>entailment</td>\n",
              "      <td>i dont know i i have mixed emotion about him s...</td>\n",
              "      <td>i like him for the most part but would still e...</td>\n",
              "    </tr>\n",
              "    <tr>\n",
              "      <th>3</th>\n",
              "      <td>3</td>\n",
              "      <td>contradiction</td>\n",
              "      <td>yeah i i think my favorite restaurant is alway...</td>\n",
              "      <td>my favorite restaurant are always at least a h...</td>\n",
              "    </tr>\n",
              "    <tr>\n",
              "      <th>4</th>\n",
              "      <td>4</td>\n",
              "      <td>contradiction</td>\n",
              "      <td>i dont know do you do a lot of camping</td>\n",
              "      <td>i know exactly</td>\n",
              "    </tr>\n",
              "    <tr>\n",
              "      <th>...</th>\n",
              "      <td>...</td>\n",
              "      <td>...</td>\n",
              "      <td>...</td>\n",
              "      <td>...</td>\n",
              "    </tr>\n",
              "    <tr>\n",
              "      <th>9810</th>\n",
              "      <td>9995</td>\n",
              "      <td>neutral</td>\n",
              "      <td>since lsc ha initiated and overseen significan...</td>\n",
              "      <td>lsc ha been focusing on improving it state del...</td>\n",
              "    </tr>\n",
              "    <tr>\n",
              "      <th>9811</th>\n",
              "      <td>9996</td>\n",
              "      <td>contradiction</td>\n",
              "      <td>eighty percent of pager in the united state we...</td>\n",
              "      <td>pager in the united state were unaffected by t...</td>\n",
              "    </tr>\n",
              "    <tr>\n",
              "      <th>9812</th>\n",
              "      <td>9997</td>\n",
              "      <td>entailment</td>\n",
              "      <td>finally the fda will conduct workshop issue gu...</td>\n",
              "      <td>the fda is set to conduct workshop</td>\n",
              "    </tr>\n",
              "    <tr>\n",
              "      <th>9813</th>\n",
              "      <td>9998</td>\n",
              "      <td>entailment</td>\n",
              "      <td>cirque du soleils the latest from the acclaime...</td>\n",
              "      <td>cirque du soleil is an international troupe</td>\n",
              "    </tr>\n",
              "    <tr>\n",
              "      <th>9814</th>\n",
              "      <td>9999</td>\n",
              "      <td>contradiction</td>\n",
              "      <td>ill listen and agree with what i think sound r...</td>\n",
              "      <td>i wont even bother listening</td>\n",
              "    </tr>\n",
              "  </tbody>\n",
              "</table>\n",
              "<p>9815 rows × 4 columns</p>\n",
              "</div>"
            ],
            "text/plain": [
              "      Unnamed: 0  ...                                          sentence2\n",
              "0              0  ...            everyone really like the newest benefit\n",
              "1              1  ...  the government executive article housed on the...\n",
              "2              2  ...  i like him for the most part but would still e...\n",
              "3              3  ...  my favorite restaurant are always at least a h...\n",
              "4              4  ...                                     i know exactly\n",
              "...          ...  ...                                                ...\n",
              "9810        9995  ...  lsc ha been focusing on improving it state del...\n",
              "9811        9996  ...  pager in the united state were unaffected by t...\n",
              "9812        9997  ...                 the fda is set to conduct workshop\n",
              "9813        9998  ...        cirque du soleil is an international troupe\n",
              "9814        9999  ...                       i wont even bother listening\n",
              "\n",
              "[9815 rows x 4 columns]"
            ]
          },
          "metadata": {
            "tags": []
          },
          "execution_count": 30
        }
      ]
    },
    {
      "cell_type": "code",
      "metadata": {
        "id": "g4LIFKbHpwmo",
        "colab": {
          "base_uri": "https://localhost:8080/",
          "height": 467
        },
        "outputId": "d4453c2a-c955-4651-9104-47c252fc5457"
      },
      "source": [
        "val_df"
      ],
      "execution_count": null,
      "outputs": [
        {
          "output_type": "execute_result",
          "data": {
            "text/html": [
              "<div>\n",
              "<style scoped>\n",
              "    .dataframe tbody tr th:only-of-type {\n",
              "        vertical-align: middle;\n",
              "    }\n",
              "\n",
              "    .dataframe tbody tr th {\n",
              "        vertical-align: top;\n",
              "    }\n",
              "\n",
              "    .dataframe thead th {\n",
              "        text-align: right;\n",
              "    }\n",
              "</style>\n",
              "<table border=\"1\" class=\"dataframe\">\n",
              "  <thead>\n",
              "    <tr style=\"text-align: right;\">\n",
              "      <th></th>\n",
              "      <th>Unnamed: 0</th>\n",
              "      <th>gold_label</th>\n",
              "      <th>sentence1</th>\n",
              "      <th>sentence2</th>\n",
              "    </tr>\n",
              "  </thead>\n",
              "  <tbody>\n",
              "    <tr>\n",
              "      <th>0</th>\n",
              "      <td>0</td>\n",
              "      <td>neutral</td>\n",
              "      <td>the new right are nice enough</td>\n",
              "      <td>everyone really like the newest benefit</td>\n",
              "    </tr>\n",
              "    <tr>\n",
              "      <th>1</th>\n",
              "      <td>1</td>\n",
              "      <td>contradiction</td>\n",
              "      <td>this site includes a list of all award winner ...</td>\n",
              "      <td>the government executive article housed on the...</td>\n",
              "    </tr>\n",
              "    <tr>\n",
              "      <th>2</th>\n",
              "      <td>2</td>\n",
              "      <td>entailment</td>\n",
              "      <td>i dont know i i have mixed emotion about him s...</td>\n",
              "      <td>i like him for the most part but would still e...</td>\n",
              "    </tr>\n",
              "    <tr>\n",
              "      <th>3</th>\n",
              "      <td>3</td>\n",
              "      <td>contradiction</td>\n",
              "      <td>yeah i i think my favorite restaurant is alway...</td>\n",
              "      <td>my favorite restaurant are always at least a h...</td>\n",
              "    </tr>\n",
              "    <tr>\n",
              "      <th>4</th>\n",
              "      <td>4</td>\n",
              "      <td>contradiction</td>\n",
              "      <td>i dont know do you do a lot of camping</td>\n",
              "      <td>i know exactly</td>\n",
              "    </tr>\n",
              "    <tr>\n",
              "      <th>...</th>\n",
              "      <td>...</td>\n",
              "      <td>...</td>\n",
              "      <td>...</td>\n",
              "      <td>...</td>\n",
              "    </tr>\n",
              "    <tr>\n",
              "      <th>9810</th>\n",
              "      <td>9995</td>\n",
              "      <td>neutral</td>\n",
              "      <td>since lsc ha initiated and overseen significan...</td>\n",
              "      <td>lsc ha been focusing on improving it state del...</td>\n",
              "    </tr>\n",
              "    <tr>\n",
              "      <th>9811</th>\n",
              "      <td>9996</td>\n",
              "      <td>contradiction</td>\n",
              "      <td>eighty percent of pager in the united state we...</td>\n",
              "      <td>pager in the united state were unaffected by t...</td>\n",
              "    </tr>\n",
              "    <tr>\n",
              "      <th>9812</th>\n",
              "      <td>9997</td>\n",
              "      <td>entailment</td>\n",
              "      <td>finally the fda will conduct workshop issue gu...</td>\n",
              "      <td>the fda is set to conduct workshop</td>\n",
              "    </tr>\n",
              "    <tr>\n",
              "      <th>9813</th>\n",
              "      <td>9998</td>\n",
              "      <td>entailment</td>\n",
              "      <td>cirque du soleils the latest from the acclaime...</td>\n",
              "      <td>cirque du soleil is an international troupe</td>\n",
              "    </tr>\n",
              "    <tr>\n",
              "      <th>9814</th>\n",
              "      <td>9999</td>\n",
              "      <td>contradiction</td>\n",
              "      <td>ill listen and agree with what i think sound r...</td>\n",
              "      <td>i wont even bother listening</td>\n",
              "    </tr>\n",
              "  </tbody>\n",
              "</table>\n",
              "<p>9815 rows × 4 columns</p>\n",
              "</div>"
            ],
            "text/plain": [
              "      Unnamed: 0  ...                                          sentence2\n",
              "0              0  ...            everyone really like the newest benefit\n",
              "1              1  ...  the government executive article housed on the...\n",
              "2              2  ...  i like him for the most part but would still e...\n",
              "3              3  ...  my favorite restaurant are always at least a h...\n",
              "4              4  ...                                     i know exactly\n",
              "...          ...  ...                                                ...\n",
              "9810        9995  ...  lsc ha been focusing on improving it state del...\n",
              "9811        9996  ...  pager in the united state were unaffected by t...\n",
              "9812        9997  ...                 the fda is set to conduct workshop\n",
              "9813        9998  ...        cirque du soleil is an international troupe\n",
              "9814        9999  ...                       i wont even bother listening\n",
              "\n",
              "[9815 rows x 4 columns]"
            ]
          },
          "metadata": {
            "tags": []
          },
          "execution_count": 31
        }
      ]
    },
    {
      "cell_type": "code",
      "metadata": {
        "id": "tSez5ZelJtaD"
      },
      "source": [
        "train_val_df = pd.concat([train_df, val_df])"
      ],
      "execution_count": null,
      "outputs": []
    },
    {
      "cell_type": "code",
      "metadata": {
        "id": "YQPlosekOe00"
      },
      "source": [
        "def pair_generator(df):\n",
        "  sentence_pair  = []\n",
        "  sentence_label = []\n",
        "  for _, row in df.iterrows():\n",
        "    sentence_pair.append((row['sentence1'], row['sentence2']))\n",
        "    sentence_label.append(row['gold_label'])\n",
        "  return sentence_pair, sentence_label"
      ],
      "execution_count": null,
      "outputs": []
    },
    {
      "cell_type": "code",
      "metadata": {
        "id": "-fhp7qyKUXH2"
      },
      "source": [
        "sentence_pairs, _ = pair_generator(train_val_df)\n",
        "train_sentence_pairs, train_sentence_labels = pair_generator(train_df)\n",
        "val_sentence_pairs, val_sentence_labels = pair_generator(val_df)"
      ],
      "execution_count": null,
      "outputs": []
    },
    {
      "cell_type": "code",
      "metadata": {
        "id": "QM98CDOoA6A5",
        "colab": {
          "base_uri": "https://localhost:8080/"
        },
        "outputId": "e5674f40-52b2-453c-9c03-4e2ca111754d"
      },
      "source": [
        "labels = set(train_sentence_labels)\n",
        "print(labels)"
      ],
      "execution_count": null,
      "outputs": [
        {
          "output_type": "stream",
          "text": [
            "{'contradiction', 'entailment', 'neutral'}\n"
          ],
          "name": "stdout"
        }
      ]
    },
    {
      "cell_type": "code",
      "metadata": {
        "id": "INKlrWKDBGsp",
        "colab": {
          "base_uri": "https://localhost:8080/"
        },
        "outputId": "8b66a114-ec7d-4d7a-9742-d5388a17f0c5"
      },
      "source": [
        "tag2idx = {word: i for i, word in enumerate(labels)}\n",
        "print(tag2idx)"
      ],
      "execution_count": null,
      "outputs": [
        {
          "output_type": "stream",
          "text": [
            "{'contradiction': 0, 'entailment': 1, 'neutral': 2}\n"
          ],
          "name": "stdout"
        }
      ]
    },
    {
      "cell_type": "code",
      "metadata": {
        "id": "mcRUVtmNBPAF"
      },
      "source": [
        "train_labels = [tag2idx[t] for t in train_sentence_labels]\n",
        "val_labels = [tag2idx[t] for t in val_sentence_labels]"
      ],
      "execution_count": null,
      "outputs": []
    },
    {
      "cell_type": "code",
      "metadata": {
        "id": "ZJct5FFHPhD3"
      },
      "source": [
        "class Vocabulary:\n",
        "  def __init__(self):\n",
        "    self.word2index = {}\n",
        "    self.word2count = {}\n",
        "    self.index2word = {}\n",
        "    self.n_words = 0\n",
        "\n",
        "  def addSentence(self, sentence):\n",
        "    for word in word_tokenize(sentence):\n",
        "      self.addWord(word)\n",
        "\n",
        "  def addWord(self, word):\n",
        "    if word not in self.word2index:\n",
        "      self.word2index[word] = self.n_words + 1\n",
        "      self.word2count[word] = 1\n",
        "      self.index2word[self.n_words + 1] = word\n",
        "      self.n_words += 1\n",
        "    else:\n",
        "      self.word2count[word] += 1"
      ],
      "execution_count": null,
      "outputs": []
    },
    {
      "cell_type": "code",
      "metadata": {
        "id": "7Wjp46-JMJrV"
      },
      "source": [
        "class DataSetLoader(Dataset):\n",
        "  def __init__(self, sentence_pair, labels):\n",
        "    self.sentence_pair = sentence_pair\n",
        "    self.labels        = labels\n",
        "\n",
        "  def __len__(self):\n",
        "    return len(self.sentence_pair)\n",
        "\n",
        "  def __getitem__(self, index):\n",
        "    return self.sentence_pair[index], self.labels[index]"
      ],
      "execution_count": null,
      "outputs": []
    },
    {
      "cell_type": "code",
      "metadata": {
        "id": "2oPZYw9WQcIb",
        "colab": {
          "base_uri": "https://localhost:8080/"
        },
        "outputId": "eae7423a-8a98-4d29-d23b-67dcb61a796a"
      },
      "source": [
        "vocab = Vocabulary()\n",
        "for data in [sentence_pairs]:\n",
        "  for sentence_pair in data:\n",
        "    premise    = sentence_pair[0]\n",
        "    hypothesis = sentence_pair[1]\n",
        "    vocab.addSentence(premise)\n",
        "    vocab.addSentence(hypothesis)\n",
        "\n",
        "print(\"Vocab size:\", len(vocab.word2index))"
      ],
      "execution_count": null,
      "outputs": [
        {
          "output_type": "stream",
          "text": [
            "Vocab size: 71154\n"
          ],
          "name": "stdout"
        }
      ]
    },
    {
      "cell_type": "code",
      "metadata": {
        "id": "aW6RaGqnSg1Q"
      },
      "source": [
        "def get_pair_indices(sentence_pairs):\n",
        "  indices_pairs = []\n",
        "  for sentence_pair in sentence_pairs:\n",
        "    premise = sentence_pair[0]\n",
        "    premise_indices = [vocab.word2index[w] for w in word_tokenize(premise)]\n",
        "    hypothesis = sentence_pair[1]\n",
        "    hypothesis_indices = [vocab.word2index[w] for w in word_tokenize(hypothesis)]\n",
        "    indices_pairs.append((premise_indices, hypothesis_indices))\n",
        "  return indices_pairs"
      ],
      "execution_count": null,
      "outputs": []
    },
    {
      "cell_type": "code",
      "metadata": {
        "id": "lI0_QdjaT8aA"
      },
      "source": [
        "train_data = DataSetLoader(get_pair_indices(train_sentence_pairs), train_labels)\n",
        "val_data   = DataSetLoader(get_pair_indices(val_sentence_pairs), val_labels)"
      ],
      "execution_count": null,
      "outputs": []
    },
    {
      "cell_type": "code",
      "metadata": {
        "id": "Uhn_ip2A3htN"
      },
      "source": [
        "EPOCHS = 25\n",
        "BATCH_SIZE = 32\n",
        "EMBEDDING_SIZE = 300\n",
        "VOCAB_SIZE = len(vocab.word2index)\n",
        "TARGET_SIZE = len(tag2idx)\n",
        "HIDDEN_SIZE = 64\n",
        "LEARNING_RATE = 0.005\n",
        "STACKED_LAYERS = 2\n",
        "EMBEDDING_PATH = '/content/GoogleNews-vectors-negative300.bin'\n",
        "GLOVE_EMBEDDING = '/content/glove.840B.300d.txt'"
      ],
      "execution_count": null,
      "outputs": []
    },
    {
      "cell_type": "code",
      "metadata": {
        "id": "cqjwKI1M4BbK",
        "colab": {
          "base_uri": "https://localhost:8080/"
        },
        "outputId": "17bb831f-2772-4b35-804a-1f958927514a"
      },
      "source": [
        "train_loader = torch.utils.data.DataLoader(train_data, batch_size = BATCH_SIZE, collate_fn=lambda x:x)\n",
        "val_loader   = torch.utils.data.DataLoader(val_data, batch_size = BATCH_SIZE, collate_fn=lambda x:x)\n",
        "\n",
        "print(len(train_loader), len(val_loader))"
      ],
      "execution_count": null,
      "outputs": [
        {
          "output_type": "stream",
          "text": [
            "12271 307\n"
          ],
          "name": "stdout"
        }
      ]
    },
    {
      "cell_type": "code",
      "metadata": {
        "id": "B63Nt0i1f5YX"
      },
      "source": [
        "def get_coefs(word, *arr):\n",
        "  return word, np.asarray(arr, dtype='float32')\n",
        "\n",
        "def load_embeddings(path):\n",
        "  with open(path) as f:\n",
        "    return dict(get_coefs(*line.strip().split(' ')) for line in f)\n",
        "\n",
        "embeddings_index = load_embeddings(GLOVE_EMBEDDING)"
      ],
      "execution_count": null,
      "outputs": []
    },
    {
      "cell_type": "code",
      "metadata": {
        "id": "o4LbqUrmgK9A",
        "colab": {
          "base_uri": "https://localhost:8080/"
        },
        "outputId": "f5dd1e73-e9a3-42fe-dd0a-20c40067e8bd"
      },
      "source": [
        "weights = 1 * np.random.randn(VOCAB_SIZE + 1, EMBEDDING_SIZE)\n",
        "embedded_count = 0\n",
        "for word, lang_word_index in vocab.word2index.items():\n",
        "  if embeddings_index.get(word) is not None:\n",
        "    weights[lang_word_index] = embeddings_index.get(word)\n",
        "    embedded_count += 1\n",
        "\n",
        "print(\"Embedded count:\", embedded_count)\n",
        "del embeddings_index\n",
        "weights.shape"
      ],
      "execution_count": null,
      "outputs": [
        {
          "output_type": "stream",
          "text": [
            "Embedded count: 58685\n"
          ],
          "name": "stdout"
        },
        {
          "output_type": "execute_result",
          "data": {
            "text/plain": [
              "(71155, 300)"
            ]
          },
          "metadata": {
            "tags": []
          },
          "execution_count": 37
        }
      ]
    },
    {
      "cell_type": "code",
      "metadata": {
        "id": "cighXvxp5nhy"
      },
      "source": [
        "# word2vec_model = KeyedVectors.load_word2vec_format(EMBEDDING_PATH, binary=True)\n",
        "\n",
        "# weights = 1 * np.random.randn(VOCAB_SIZE + 1, EMBEDDING_SIZE)\n",
        "# for word, lang_word_index in vocab.word2index.items():\n",
        "#   if word in word2vec_model.vocab:\n",
        "#     weights[lang_word_index] = word2vec_model.word_vec(word)\n",
        "\n",
        "# del word2vec_model\n",
        "# weights.shape"
      ],
      "execution_count": null,
      "outputs": []
    },
    {
      "cell_type": "code",
      "metadata": {
        "id": "hA-DrQNHPEbN",
        "colab": {
          "base_uri": "https://localhost:8080/"
        },
        "outputId": "80fada33-ca46-4cb1-fdd7-472affee6919"
      },
      "source": [
        "device = torch.device(\"cuda:0\" if torch.cuda.is_available() else \"cpu\")\n",
        "print(device)"
      ],
      "execution_count": null,
      "outputs": [
        {
          "output_type": "stream",
          "text": [
            "cuda:0\n"
          ],
          "name": "stdout"
        }
      ]
    },
    {
      "cell_type": "code",
      "metadata": {
        "id": "fDkXKHxS7caf"
      },
      "source": [
        "class LSTM(nn.Module):\n",
        "  def __init__(self, vocab_size, hidden_size, target_size, stacked_layers, weights_matrix, bidirectional):\n",
        "    super(LSTM, self).__init__()\n",
        "    self.vocab_size     = vocab_size\n",
        "    self.hidden_size    = hidden_size\n",
        "    self.bidirectional  = bidirectional\n",
        "    self.target_size    = target_size\n",
        "    self.stacked_layers = stacked_layers\n",
        "    num_embeddings, embedding_dim = weights_matrix.shape[0], weights_matrix.shape[1]\n",
        "    self.embedding = nn.Embedding(num_embeddings, embedding_dim)\n",
        "    self.embedding.weight.data.copy_(torch.from_numpy(weights_matrix))\n",
        "    self.embedding.weight.requires_grad = True\n",
        "\n",
        "    self.lstm = nn.LSTM(input_size=embedding_dim, hidden_size=self.hidden_size, num_layers=self.stacked_layers, batch_first = True, dropout=0.2, bidirectional=bidirectional)\n",
        "    \n",
        "    self.relu = nn.ReLU()\n",
        "    self.dropout = nn.Dropout(p = 0.2)\n",
        "\n",
        "    self.FC_concat1 = nn.Linear(2 * 2 * hidden_size if bidirectional else 2 * hidden_size, 128)\n",
        "    self.FC_concat2 = nn.Linear(128, 64)\n",
        "    self.FC_concat3 = nn.Linear(64, 32)\n",
        "\n",
        "    for lin in [self.FC_concat1, self.FC_concat2]:\n",
        "\t\t    nn.init.xavier_uniform_(lin.weight)\n",
        "\t\t    nn.init.zeros_(lin.bias)\n",
        "\n",
        "    self.output = nn.Linear(32, self.target_size)\n",
        "\n",
        "    self.out = nn.Sequential(\n",
        "\t\t\tself.FC_concat1,\n",
        "\t\t\tself.relu,\n",
        "\t\t\tself.dropout,\n",
        "\t\t\tself.FC_concat2,\n",
        "\t\t\tself.relu,\n",
        "      self.FC_concat3,\n",
        "      self.relu,\n",
        "\t\t\tself.dropout,\n",
        "\t\t\tself.output\n",
        "\t\t)\n",
        "\n",
        "  def forward_once(self, seq, hidden, seq_len):\n",
        "    embedd_seq = self.embedding(seq)\n",
        "    packed_seq = pack_padded_sequence(embedd_seq, lengths=seq_len, batch_first=True, enforce_sorted=False)\n",
        "    output, (hidden, _) = self.lstm(packed_seq, hidden)\n",
        "    return hidden\n",
        "\n",
        "  def forward(self, input, premise_len, hypothesis_len):\n",
        "    premise    = input[0]\n",
        "    hypothesis = input[1]\n",
        "    batch_size = premise.size(0)\n",
        "\n",
        "    h0 = torch.zeros(self.stacked_layers*2 if self.bidirectional else self.stacked_layers, batch_size, self.hidden_size).to(device) # 2 for bidirection \n",
        "    c0 = torch.zeros(self.stacked_layers*2 if self.bidirectional else self.stacked_layers, batch_size, self.hidden_size).to(device)\n",
        "\n",
        "    # hidden = self.init_hidden(batch_size)\n",
        "\n",
        "    premise    = self.forward_once(premise, (h0, c0), premise_len)\n",
        "    hypothesis = self.forward_once(hypothesis, (h0, c0), hypothesis_len)\n",
        "    \n",
        "    combined_outputs  = torch.cat((premise, hypothesis, torch.abs(premise - hypothesis), premise * hypothesis), dim=2)\n",
        "\n",
        "    return self.out(combined_outputs[-1])\n",
        "\n",
        "  # def init_hidden(self, batch_size):\n",
        "  #   weight = next(self.parameters()).data\n",
        "  #   hidden = (weight.new(self.stacked_layers, batch_size, self.hidden_size).zero_().to(device),\n",
        "  #                     weight.new(self.stacked_layers, batch_size, self.hidden_size).zero_().to(device))\n",
        "  #   return hidden"
      ],
      "execution_count": null,
      "outputs": []
    },
    {
      "cell_type": "code",
      "metadata": {
        "id": "oDbRQoVUIGr-"
      },
      "source": [
        "def multi_acc(y_pred, y_test):\n",
        "  acc = (torch.log_softmax(y_pred, dim=1).argmax(dim=1) == y_test).sum().float() / float(y_test.size(0))\n",
        "  return acc"
      ],
      "execution_count": null,
      "outputs": []
    },
    {
      "cell_type": "code",
      "metadata": {
        "id": "gghIuCxYD_Un"
      },
      "source": [
        "import time\n",
        "\n",
        "def train(model, train_loader, val_loader, criterion, optimizer):  \n",
        "  total_step = len(train_loader)\n",
        "\n",
        "  for epoch in range(EPOCHS):\n",
        "    start = time.time()\n",
        "    model.train()\n",
        "    total_train_loss = 0\n",
        "    total_train_acc  = 0\n",
        "    for val in train_loader:\n",
        "      sentence_pairs, labels = map(list, zip(*val))\n",
        "\n",
        "      premise_seq    = [torch.tensor(seq[0]).long().to(device) for seq in sentence_pairs]\n",
        "      hypothesis_seq = [torch.tensor(seq[1]).long().to(device) for seq in sentence_pairs]\n",
        "      batch = len(premise_seq)\n",
        "\n",
        "      premise_len    = list(map(len, premise_seq))\n",
        "      hypothesis_len = list(map(len, hypothesis_seq))\n",
        "\n",
        "      temp = pad_sequence(premise_seq + hypothesis_seq, batch_first=True)\n",
        "      premise_seq    = temp[:batch, :]\n",
        "      hypothesis_seq = temp[batch:, :]\n",
        "      labels         = torch.tensor(labels).long().to(device)\n",
        "\n",
        "      model.zero_grad()\n",
        "      prediction = model([premise_seq, hypothesis_seq], premise_len, hypothesis_len)\n",
        "\n",
        "      loss = criterion(prediction, labels)\n",
        "      acc  = multi_acc(prediction, labels)\n",
        "\n",
        "      loss.backward()\n",
        "      optimizer.step()\n",
        "      \n",
        "      total_train_loss += loss.item()\n",
        "      total_train_acc  += acc.item()\n",
        "\n",
        "    train_acc  = total_train_acc/len(train_loader)\n",
        "    train_loss = total_train_loss/len(train_loader)\n",
        "    model.eval()\n",
        "    total_val_acc  = 0\n",
        "    total_val_loss = 0\n",
        "    with torch.no_grad():\n",
        "      for val in val_loader:\n",
        "        sentence_pairs, labels = map(list, zip(*val))\n",
        "\n",
        "        premise_seq    = [torch.tensor(seq[0]).long().to(device) for seq in sentence_pairs]\n",
        "        hypothesis_seq = [torch.tensor(seq[1]).long().to(device) for seq in sentence_pairs]\n",
        "        batch = len(premise_seq)\n",
        "\n",
        "        premise_len    = list(map(len, premise_seq))\n",
        "        hypothesis_len = list(map(len, hypothesis_seq))\n",
        "\n",
        "        temp = pad_sequence(premise_seq + hypothesis_seq, batch_first=True)\n",
        "        premise_seq    = temp[:batch, :]\n",
        "        hypothesis_seq = temp[batch:, :]\n",
        "\n",
        "        premise_seq    = premise_seq.to(device)\n",
        "        hypothesis_seq = hypothesis_seq.to(device)\n",
        "        labels         = torch.tensor(labels).long().to(device)\n",
        "\n",
        "        model.zero_grad()\n",
        "        prediction = model([premise_seq, hypothesis_seq], premise_len, hypothesis_len)\n",
        "        \n",
        "        loss = criterion(prediction, labels)\n",
        "        acc  = multi_acc(prediction, labels)\n",
        "\n",
        "        total_val_loss += loss.item()\n",
        "        total_val_acc  += acc.item()\n",
        "\n",
        "    val_acc  = total_val_acc/len(val_loader)\n",
        "    val_loss = total_val_loss/len(val_loader)\n",
        "\n",
        "    end = time.time()\n",
        "    hours, rem = divmod(end-start, 3600)\n",
        "    minutes, seconds = divmod(rem, 60)\n",
        "    print(\"{:0>2}:{:0>2}:{:05.2f}\".format(int(hours),int(minutes),seconds))\n",
        "    print(f'Epoch {epoch+1}: train_loss: {train_loss:.4f} train_acc: {train_acc:.4f} | val_loss: {val_loss:.4f} val_acc: {val_acc:.4f}')\n",
        "    torch.cuda.empty_cache()"
      ],
      "execution_count": null,
      "outputs": []
    },
    {
      "cell_type": "code",
      "metadata": {
        "id": "bM-Xj3lPDN7u",
        "colab": {
          "base_uri": "https://localhost:8080/"
        },
        "outputId": "6ac78e9c-dbeb-41f5-b29f-af20fffa2979"
      },
      "source": [
        "lstm_model = LSTM(VOCAB_SIZE, HIDDEN_SIZE, TARGET_SIZE, STACKED_LAYERS, weights, True)\n",
        "lstm_model.to(device)\n",
        "print(lstm_model)\n",
        "\n",
        "criterion = nn.CrossEntropyLoss()\n",
        "optimizer = optim.Adam(lstm_model.parameters(), lr=LEARNING_RATE, weight_decay=1e-5)"
      ],
      "execution_count": null,
      "outputs": [
        {
          "output_type": "stream",
          "text": [
            "LSTM(\n",
            "  (embedding): Embedding(71155, 300)\n",
            "  (lstm): LSTM(300, 64, num_layers=2, batch_first=True, dropout=0.2, bidirectional=True)\n",
            "  (relu): ReLU()\n",
            "  (dropout): Dropout(p=0.2, inplace=False)\n",
            "  (FC_concat1): Linear(in_features=256, out_features=128, bias=True)\n",
            "  (FC_concat2): Linear(in_features=128, out_features=64, bias=True)\n",
            "  (FC_concat3): Linear(in_features=64, out_features=32, bias=True)\n",
            "  (output): Linear(in_features=32, out_features=3, bias=True)\n",
            "  (out): Sequential(\n",
            "    (0): Linear(in_features=256, out_features=128, bias=True)\n",
            "    (1): ReLU()\n",
            "    (2): Dropout(p=0.2, inplace=False)\n",
            "    (3): Linear(in_features=128, out_features=64, bias=True)\n",
            "    (4): ReLU()\n",
            "    (5): Linear(in_features=64, out_features=32, bias=True)\n",
            "    (6): ReLU()\n",
            "    (7): Dropout(p=0.2, inplace=False)\n",
            "    (8): Linear(in_features=32, out_features=3, bias=True)\n",
            "  )\n",
            ")\n"
          ],
          "name": "stdout"
        }
      ]
    },
    {
      "cell_type": "code",
      "metadata": {
        "id": "1iv4FyvIuYaL",
        "colab": {
          "base_uri": "https://localhost:8080/"
        },
        "outputId": "333dfe19-08b3-43ba-d865-508009d54f32"
      },
      "source": [
        "train(lstm_model, train_loader, val_loader, criterion, optimizer)"
      ],
      "execution_count": null,
      "outputs": [
        {
          "output_type": "stream",
          "text": [
            "00:08:01.14\n",
            "Epoch 1: train_loss: 0.9631 train_acc: 0.5296 | val_loss: 0.9337 val_acc: 0.5553\n",
            "00:08:01.35\n",
            "Epoch 2: train_loss: 0.9231 train_acc: 0.5660 | val_loss: 0.9151 val_acc: 0.5830\n",
            "00:08:02.74\n",
            "Epoch 3: train_loss: 0.9069 train_acc: 0.5789 | val_loss: 0.8849 val_acc: 0.5913\n",
            "00:08:03.71\n",
            "Epoch 4: train_loss: 0.8986 train_acc: 0.5845 | val_loss: 0.8913 val_acc: 0.5958\n",
            "00:08:04.78\n",
            "Epoch 5: train_loss: 0.8959 train_acc: 0.5868 | val_loss: 0.8968 val_acc: 0.5920\n",
            "00:08:06.11\n",
            "Epoch 6: train_loss: 0.8921 train_acc: 0.5881 | val_loss: 0.8749 val_acc: 0.5977\n",
            "00:08:07.80\n",
            "Epoch 7: train_loss: 0.8881 train_acc: 0.5913 | val_loss: 0.8820 val_acc: 0.5932\n",
            "00:08:08.89\n",
            "Epoch 8: train_loss: 0.8847 train_acc: 0.5942 | val_loss: 0.8731 val_acc: 0.6009\n",
            "00:08:07.56\n",
            "Epoch 9: train_loss: 0.8837 train_acc: 0.5944 | val_loss: 0.8868 val_acc: 0.5934\n",
            "00:08:05.49\n",
            "Epoch 10: train_loss: 0.8804 train_acc: 0.5966 | val_loss: 0.8702 val_acc: 0.5967\n",
            "00:07:57.75\n",
            "Epoch 11: train_loss: 0.8800 train_acc: 0.5987 | val_loss: 0.8682 val_acc: 0.6098\n",
            "00:07:51.31\n",
            "Epoch 12: train_loss: 0.8799 train_acc: 0.5975 | val_loss: 0.8632 val_acc: 0.6124\n",
            "00:07:52.50\n",
            "Epoch 13: train_loss: 0.8809 train_acc: 0.5978 | val_loss: 0.8662 val_acc: 0.6067\n",
            "00:07:52.13\n",
            "Epoch 14: train_loss: 0.8791 train_acc: 0.5988 | val_loss: 0.8773 val_acc: 0.6025\n",
            "00:08:03.02\n",
            "Epoch 15: train_loss: 0.8783 train_acc: 0.5990 | val_loss: 0.8811 val_acc: 0.5962\n",
            "00:08:14.05\n",
            "Epoch 16: train_loss: 0.8769 train_acc: 0.5994 | val_loss: 0.8694 val_acc: 0.6105\n",
            "00:08:08.85\n",
            "Epoch 17: train_loss: 0.8777 train_acc: 0.5998 | val_loss: 0.8892 val_acc: 0.6013\n",
            "00:07:54.32\n",
            "Epoch 18: train_loss: 0.8760 train_acc: 0.6008 | val_loss: 0.8670 val_acc: 0.6129\n",
            "00:07:53.20\n",
            "Epoch 19: train_loss: 0.8756 train_acc: 0.6007 | val_loss: 0.8643 val_acc: 0.6133\n",
            "00:07:53.43\n",
            "Epoch 20: train_loss: 0.8741 train_acc: 0.6012 | val_loss: 0.8670 val_acc: 0.6118\n",
            "00:07:54.74\n",
            "Epoch 21: train_loss: 0.8746 train_acc: 0.6022 | val_loss: 0.8701 val_acc: 0.6163\n",
            "00:07:50.71\n",
            "Epoch 22: train_loss: 0.8740 train_acc: 0.6021 | val_loss: 0.8670 val_acc: 0.6060\n",
            "00:07:57.65\n",
            "Epoch 23: train_loss: 0.8756 train_acc: 0.6010 | val_loss: 0.8741 val_acc: 0.6050\n",
            "00:07:58.88\n",
            "Epoch 24: train_loss: 0.8764 train_acc: 0.6009 | val_loss: 0.8753 val_acc: 0.6164\n",
            "00:07:49.31\n",
            "Epoch 25: train_loss: 0.8754 train_acc: 0.6014 | val_loss: 0.8718 val_acc: 0.6104\n"
          ],
          "name": "stdout"
        }
      ]
    }
  ]
}